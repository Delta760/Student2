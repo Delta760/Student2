{
 "cells": [
  {
   "cell_type": "markdown",
   "id": "1424bb22",
   "metadata": {},
   "source": [
    "---\n",
    "toc: true\n",
    "comments: true\n",
    "layout: post\n",
    "title: Team presentation\n",
    "description:  1.1-1.4 pt 2\n",
    "courses: {compsci: {week: 3}}\n",
    "type: none\n",
    "---"
   ]
  },
  {
   "cell_type": "markdown",
   "id": "e2c15546",
   "metadata": {},
   "source": [
    "# 1.1 - 1.4 Program function and purpose pt 2"
   ]
  },
  {
   "cell_type": "markdown",
   "id": "53af2add",
   "metadata": {},
   "source": [
    "## Program with Itteration"
   ]
  },
  {
   "cell_type": "code",
   "execution_count": null,
   "id": "32f9e3c1",
   "metadata": {},
   "outputs": [],
   "source": [
    "sum = 0\n",
    "for i in range(10):\n",
    "    sum = sum +1\n",
    "    print(sum)\n",
    "    "
   ]
  },
  {
   "cell_type": "markdown",
   "id": "305cec10",
   "metadata": {},
   "source": [
    "This is a for loop\n",
    "\n",
    "It will print the amount of times specified in the range area (or broken out of with the break function)"
   ]
  },
  {
   "cell_type": "code",
   "execution_count": null,
   "id": "deaa6472",
   "metadata": {},
   "outputs": [],
   "source": [
    "sum = 1\n",
    "while sum <= 10:\n",
    "    print(sum)\n",
    "    sum += 1\n",
    "    \n",
    "    "
   ]
  },
  {
   "cell_type": "markdown",
   "id": "f7a67846",
   "metadata": {},
   "source": [
    "This is a while loop \n",
    "\n",
    "It will repeat until a certain condition is not met (or broken out of with the break function)"
   ]
  },
  {
   "cell_type": "markdown",
   "id": "44cc2195",
   "metadata": {},
   "source": [
    "## Program with math"
   ]
  },
  {
   "cell_type": "code",
   "execution_count": null,
   "id": "b75d5b48",
   "metadata": {},
   "outputs": [],
   "source": [
    "sum = 1+1\n",
    "print(sum)\n",
    "\n",
    "product = sum * sum\n",
    "print(product)\n",
    "\n",
    "quotient = 48 / product\n",
    "print(int(quotient))\n",
    "\n",
    "difference = quotient - product\n",
    "print(int(difference))"
   ]
  },
  {
   "cell_type": "markdown",
   "id": "e2166b5c",
   "metadata": {},
   "source": [
    "Normal arithmetic works like normal in python \n",
    "\n",
    "You can also use variables to store values for later arithmetic use"
   ]
  },
  {
   "cell_type": "code",
   "execution_count": null,
   "id": "274afb1c",
   "metadata": {},
   "outputs": [],
   "source": [
    "modulus = 9 % 4\n",
    "print(modulus)"
   ]
  },
  {
   "cell_type": "markdown",
   "id": "f608ae37",
   "metadata": {},
   "source": [
    "Modulus is also a function used in python which prints out the remainder of a division function."
   ]
  },
  {
   "cell_type": "markdown",
   "id": "f7f0876d",
   "metadata": {},
   "source": [
    "## Program with conditions"
   ]
  },
  {
   "cell_type": "code",
   "execution_count": null,
   "id": "246ec5fe",
   "metadata": {},
   "outputs": [],
   "source": [
    "\n",
    "asked = True\n",
    "\n",
    "while asked:\n",
    "    answer = input(\"Hello, how are you \")\n",
    "    if len(answer) > 10:\n",
    "        print(\"Waoh, didn't ask for your life story\")\n",
    "        asked = False\n",
    "    elif len(answer) < 3:\n",
    "        print(\"Feel free to elaborate\")\n",
    "        continue\n",
    "    else:\n",
    "        print(\"Damn that's crazy\")\n",
    "        asked = False\n"
   ]
  },
  {
   "cell_type": "markdown",
   "id": "ef2a4afc",
   "metadata": {},
   "source": [
    "This is a simple function that utilises if, else if, and else statements to stack conditions"
   ]
  },
  {
   "cell_type": "markdown",
   "id": "08556b3e",
   "metadata": {},
   "source": [
    "## Function with a purpose"
   ]
  },
  {
   "cell_type": "code",
   "execution_count": 1,
   "id": "e3d518fe",
   "metadata": {},
   "outputs": [
    {
     "name": "stdout",
     "output_type": "stream",
     "text": [
      "Before you stand three doors, Behind one is a ghost\n"
     ]
    }
   ],
   "source": [
    "import random\n",
    "\n",
    "alive = True\n",
    "score = 0\n",
    "\n",
    "print(\"Before you stand three doors, Behind one is a ghost\")\n",
    "\n",
    "\n",
    "while alive:\n",
    "    ghost = random.randint(1, 3)\n",
    "    player = int(input(\"NOW CHOOSE \"))\n",
    "    if player > 0 and player < 4:\n",
    "        if ghost == player:\n",
    "            print(f\"The ghost caught you, your score was {score}\")\n",
    "            alive = False\n",
    "        else:\n",
    "            print(\"you continue through safely, Before you stand three more doors.\")\n",
    "            score += 1 \n",
    "            continue\n",
    "    else:\n",
    "        print(\"please enter a value 1-3\")\n",
    "        continue\n",
    "        \n",
    "\n"
   ]
  },
  {
   "cell_type": "markdown",
   "id": "69115082",
   "metadata": {},
   "source": [
    "Here is a simple game about traversing through doors while trying to avoid a ghost"
   ]
  }
 ],
 "metadata": {
  "kernelspec": {
   "display_name": "Python 3 (ipykernel)",
   "language": "python",
   "name": "python3"
  },
  "language_info": {
   "codemirror_mode": {
    "name": "ipython",
    "version": 3
   },
   "file_extension": ".py",
   "mimetype": "text/x-python",
   "name": "python",
   "nbconvert_exporter": "python",
   "pygments_lexer": "ipython3",
   "version": "3.11.5"
  }
 },
 "nbformat": 4,
 "nbformat_minor": 5
}
