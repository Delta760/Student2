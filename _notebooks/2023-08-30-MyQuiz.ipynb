{
 "cells": [
  {
   "attachments": {},
   "cell_type": "markdown",
   "metadata": {},
   "source": [
    "---\n",
    "toc: true\n",
    "comments: true\n",
    "layout: post\n",
    "title: My Python Quiz\n",
    "description: Quiz I created based on python vocab\n",
    "courses: { compsci: {week: 2} }\n",
    "type: tangibles\n",
    "---"
   ]
  },
  {
   "cell_type": "markdown",
   "metadata": {},
   "source": [
    "# Welcome to Grayson Guyot's notebook on creating a quiz !!"
   ]
  },
  {
   "cell_type": "markdown",
   "metadata": {},
   "source": [
    "### What I am going to use to create my quiz:\n",
    "`print()`, \n",
    "`import`, \n",
    "`def()`, \n",
    "`if`, \n",
    "`else`, \n",
    "`while`, \n",
    "`for`,\n",
    "dictionary"
   ]
  },
  {
   "cell_type": "markdown",
   "metadata": {},
   "source": [
    "### First, let's start by importing the `getpass` and `sys` libraries.\n",
    "##### There are two functions that we are going to use: `getpass.getuser()` and `sys.executable`.\n",
    "##### `getpass.getuser()` prints the user's name.\n",
    "##### `sys.executable` prints the path to the Python interpreter. "
   ]
  },
  {
   "cell_type": "markdown",
   "metadata": {},
   "source": [
    "##### First, let's start by importing the `sys` and `getpass` libraries."
   ]
  },
  {
   "cell_type": "code",
   "execution_count": 1,
   "metadata": {},
   "outputs": [],
   "source": [
    "import sys\n",
    "import getpass"
   ]
  },
  {
   "cell_type": "markdown",
   "metadata": {},
   "source": [
    "##### Next, let's create a dictionary that contains our questions and answers. The keys are our questions and the values are our answers. Let's also assign the number of questions to the length of the dictionary, and number of correct answers to another variable."
   ]
  },
  {
   "cell_type": "code",
   "execution_count": 2,
   "metadata": {},
   "outputs": [],
   "source": [
    "# questions and answers dictionary\n",
    "qsandas_dict = {\n",
    "    \"What command is used to include other functions that were previously developed?\" : \"import\",\n",
    "    \"What command is used to evaluate correct or incorrect response in this example?\" : \"if\",\n",
    "    \"Each 'if' command contains an '_________' to determine a true or false condition?\" : \"expression\",\n",
    "    \"What is the word used to describe somthing that cannot change?\" : \"static\"\n",
    "}\n",
    "\n",
    "# number of questions, number of correct answers (this will be incremented later)\n",
    "questions = len(qsandas_dict) # length of the dictionary\n",
    "correct = 0"
   ]
  },
  {
   "cell_type": "markdown",
   "metadata": {},
   "source": [
    "##### - Greet the user and print their username and the path to the Python interpreter.\n",
    "##### - Prompt the user and ask if they are ready to take the test."
   ]
  },
  {
   "cell_type": "code",
   "execution_count": 3,
   "metadata": {},
   "outputs": [
    {
     "name": "stdout",
     "output_type": "stream",
     "text": [
      "Hello, graysonguyot running /opt/homebrew/opt/python@3.11/bin/python3.11\n",
      "You will be asked 4 questions.\n"
     ]
    }
   ],
   "source": [
    "print(f\"Hello, {getpass.getuser()} running {sys.executable}\")\n",
    "print(f\"You will be asked {questions} questions.\")\n",
    "readyornot = input(\"Are you ready to take a test? \")"
   ]
  },
  {
   "cell_type": "markdown",
   "metadata": {},
   "source": [
    "##### If they are ready to take the test, start iterating through the dictionary, asking questions and prompting for answers. If they type the correct answer, say that they are correct and increment the variable containing the number of correct answers. If they're wrong, say that they're incorrect and print out the correct answer. Print out the final score as a percentage.\n",
    "\n",
    "##### If they're not ready to take the test, tell them to come back another time.\n",
    "##### If they give an invalid response, tell them that their response is invalid."
   ]
  },
  {
   "cell_type": "code",
   "execution_count": null,
   "metadata": {},
   "outputs": [],
   "source": [
    "# if they are ready\n",
    "if readyornot == \"yes\" or readyornot == \"Yes\":\n",
    "    print(\"Awesome! Let's begin.\")\n",
    "    \n",
    "    # for each question in our dictionary, ask the question\n",
    "    for question in qsandas_dict:\n",
    "        answer = input(question)\n",
    "        print(f\"You answered {answer}.\")\n",
    "        \n",
    "        # if they are correct, increment correct variable\n",
    "        if answer == qsandas_dict[question]:\n",
    "            print(\"You are correct!\")\n",
    "            correct += 1\n",
    "        \n",
    "        # if they are wrong, print out correct answer\n",
    "        else:\n",
    "            print(f\"You are incorrect! The answer is {qsandas_dict[question]}.\")\n",
    "            \n",
    "    score = (correct/questions) * 100\n",
    "    #print out results\n",
    "    print(f\"{getpass.getuser()} you scored {correct} / {questions}, which is a {score:.2f}%.\")\n",
    "    \n",
    "elif readyornot == \"no\" or readyornot == \"No\":\n",
    "    print(\"No problem! Come back when you're ready!\")\n",
    "else:\n",
    "    print(\"Invalid response. Please try again.\")"
   ]
  }
 ],
 "metadata": {
  "kernelspec": {
   "display_name": "base",
   "language": "python",
   "name": "python3"
  },
  "language_info": {
   "codemirror_mode": {
    "name": "ipython",
    "version": 3
   },
   "file_extension": ".py",
   "mimetype": "text/x-python",
   "name": "python",
   "nbconvert_exporter": "python",
   "pygments_lexer": "ipython3",
   "version": "3.11.5"
  },
  "orig_nbformat": 4
 },
 "nbformat": 4,
 "nbformat_minor": 2
}
